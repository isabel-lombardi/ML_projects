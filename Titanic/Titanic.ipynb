{
 "cells": [
  {
   "cell_type": "markdown",
   "metadata": {},
   "source": [
    "## Titanic\n",
    "Goal: Predict if a passenger survived the sinking of the Titanic or not. Minimum performance: 80%\n",
    "\n",
    "Data: https://www.kaggle.com/c/titanic/data\n",
    "\n",
    "Data size:\n",
    "- test.csv = 27.98 KB\n",
    "- train.csv = 59.76 KB\n",
    "- tot = 87.74 KB"
   ]
  },
  {
   "cell_type": "code",
   "execution_count": 1,
   "metadata": {},
   "outputs": [],
   "source": [
    "import os\n",
    "import pandas as pd\n",
    "import seaborn as sns\n",
    "import matplotlib.pyplot as plt\n",
    "\n",
    "from sklearn.base import BaseEstimator, TransformerMixin\n",
    "from sklearn.pipeline import Pipeline\n",
    "from sklearn.impute import SimpleImputer\n",
    "from sklearn.preprocessing import OneHotEncoder, StandardScaler\n",
    "from sklearn.compose import ColumnTransformer\n",
    "from sklearn.svm import SVC\n",
    "from sklearn.ensemble import RandomForestClassifier\n",
    "from sklearn.model_selection import cross_val_score, GridSearchCV\n",
    "from sklearn.neighbors import KNeighborsClassifier"
   ]
  },
  {
   "cell_type": "code",
   "execution_count": 18,
   "metadata": {},
   "outputs": [],
   "source": [
    "# get the data\n",
    "PATH = os.path.join(\"datasets\", \"titanic\")\n",
    "\n",
    "# load data\n",
    "def load_data(filename, titanic_path=PATH):\n",
    "    csv_path = os.path.join(titanic_path, filename)\n",
    "    return pd.read_csv(csv_path)\n",
    "\n",
    "\n",
    "train_data = load_data(\"train.csv\")\n",
    "test_data = load_data(\"train.csv\")"
   ]
  },
  {
   "cell_type": "code",
   "execution_count": 5,
   "metadata": {},
   "outputs": [
    {
     "data": {
      "text/html": [
       "<div>\n",
       "<style scoped>\n",
       "    .dataframe tbody tr th:only-of-type {\n",
       "        vertical-align: middle;\n",
       "    }\n",
       "\n",
       "    .dataframe tbody tr th {\n",
       "        vertical-align: top;\n",
       "    }\n",
       "\n",
       "    .dataframe thead th {\n",
       "        text-align: right;\n",
       "    }\n",
       "</style>\n",
       "<table border=\"1\" class=\"dataframe\">\n",
       "  <thead>\n",
       "    <tr style=\"text-align: right;\">\n",
       "      <th></th>\n",
       "      <th>PassengerId</th>\n",
       "      <th>Survived</th>\n",
       "      <th>Pclass</th>\n",
       "      <th>Name</th>\n",
       "      <th>Sex</th>\n",
       "      <th>Age</th>\n",
       "      <th>SibSp</th>\n",
       "      <th>Parch</th>\n",
       "      <th>Ticket</th>\n",
       "      <th>Fare</th>\n",
       "      <th>Cabin</th>\n",
       "      <th>Embarked</th>\n",
       "    </tr>\n",
       "  </thead>\n",
       "  <tbody>\n",
       "    <tr>\n",
       "      <th>0</th>\n",
       "      <td>1</td>\n",
       "      <td>0</td>\n",
       "      <td>3</td>\n",
       "      <td>Braund, Mr. Owen Harris</td>\n",
       "      <td>male</td>\n",
       "      <td>22.0</td>\n",
       "      <td>1</td>\n",
       "      <td>0</td>\n",
       "      <td>A/5 21171</td>\n",
       "      <td>7.2500</td>\n",
       "      <td>NaN</td>\n",
       "      <td>S</td>\n",
       "    </tr>\n",
       "    <tr>\n",
       "      <th>1</th>\n",
       "      <td>2</td>\n",
       "      <td>1</td>\n",
       "      <td>1</td>\n",
       "      <td>Cumings, Mrs. John Bradley (Florence Briggs Th...</td>\n",
       "      <td>female</td>\n",
       "      <td>38.0</td>\n",
       "      <td>1</td>\n",
       "      <td>0</td>\n",
       "      <td>PC 17599</td>\n",
       "      <td>71.2833</td>\n",
       "      <td>C85</td>\n",
       "      <td>C</td>\n",
       "    </tr>\n",
       "    <tr>\n",
       "      <th>2</th>\n",
       "      <td>3</td>\n",
       "      <td>1</td>\n",
       "      <td>3</td>\n",
       "      <td>Heikkinen, Miss. Laina</td>\n",
       "      <td>female</td>\n",
       "      <td>26.0</td>\n",
       "      <td>0</td>\n",
       "      <td>0</td>\n",
       "      <td>STON/O2. 3101282</td>\n",
       "      <td>7.9250</td>\n",
       "      <td>NaN</td>\n",
       "      <td>S</td>\n",
       "    </tr>\n",
       "    <tr>\n",
       "      <th>3</th>\n",
       "      <td>4</td>\n",
       "      <td>1</td>\n",
       "      <td>1</td>\n",
       "      <td>Futrelle, Mrs. Jacques Heath (Lily May Peel)</td>\n",
       "      <td>female</td>\n",
       "      <td>35.0</td>\n",
       "      <td>1</td>\n",
       "      <td>0</td>\n",
       "      <td>113803</td>\n",
       "      <td>53.1000</td>\n",
       "      <td>C123</td>\n",
       "      <td>S</td>\n",
       "    </tr>\n",
       "    <tr>\n",
       "      <th>4</th>\n",
       "      <td>5</td>\n",
       "      <td>0</td>\n",
       "      <td>3</td>\n",
       "      <td>Allen, Mr. William Henry</td>\n",
       "      <td>male</td>\n",
       "      <td>35.0</td>\n",
       "      <td>0</td>\n",
       "      <td>0</td>\n",
       "      <td>373450</td>\n",
       "      <td>8.0500</td>\n",
       "      <td>NaN</td>\n",
       "      <td>S</td>\n",
       "    </tr>\n",
       "  </tbody>\n",
       "</table>\n",
       "</div>"
      ],
      "text/plain": [
       "   PassengerId  Survived  Pclass  \\\n",
       "0            1         0       3   \n",
       "1            2         1       1   \n",
       "2            3         1       3   \n",
       "3            4         1       1   \n",
       "4            5         0       3   \n",
       "\n",
       "                                                Name     Sex   Age  SibSp  \\\n",
       "0                            Braund, Mr. Owen Harris    male  22.0      1   \n",
       "1  Cumings, Mrs. John Bradley (Florence Briggs Th...  female  38.0      1   \n",
       "2                             Heikkinen, Miss. Laina  female  26.0      0   \n",
       "3       Futrelle, Mrs. Jacques Heath (Lily May Peel)  female  35.0      1   \n",
       "4                           Allen, Mr. William Henry    male  35.0      0   \n",
       "\n",
       "   Parch            Ticket     Fare Cabin Embarked  \n",
       "0      0         A/5 21171   7.2500   NaN        S  \n",
       "1      0          PC 17599  71.2833   C85        C  \n",
       "2      0  STON/O2. 3101282   7.9250   NaN        S  \n",
       "3      0            113803  53.1000  C123        S  \n",
       "4      0            373450   8.0500   NaN        S  "
      ]
     },
     "execution_count": 5,
     "metadata": {},
     "output_type": "execute_result"
    }
   ],
   "source": [
    "# explore the data\n",
    "\n",
    "train = train_data.copy()\n",
    "train.head()"
   ]
  },
  {
   "cell_type": "code",
   "execution_count": 6,
   "metadata": {},
   "outputs": [
    {
     "data": {
      "text/plain": [
       "Index(['PassengerId', 'Survived', 'Pclass', 'Name', 'Sex', 'Age', 'SibSp',\n",
       "       'Parch', 'Ticket', 'Fare', 'Cabin', 'Embarked'],\n",
       "      dtype='object')"
      ]
     },
     "execution_count": 6,
     "metadata": {},
     "output_type": "execute_result"
    }
   ],
   "source": [
    "train.columns"
   ]
  },
  {
   "cell_type": "markdown",
   "metadata": {},
   "source": [
    "- Survived: the target: 0 = not survive, 1 = survived.\n",
    "- Pclass: passenger class.\n",
    "- Name\n",
    "- Sex\n",
    "- Age\n",
    "- SibSp: siblings and spouses traveling with the passenger\n",
    "- Parch: parents and children traveling with the passenger\n",
    "- Ticket: ticket id\n",
    "- Fare: price paid (in pounds)\n",
    "- Cabin: passenger's cabin number\n",
    "- Embarked: where the passenger embarked the Titanic"
   ]
  },
  {
   "cell_type": "code",
   "execution_count": 7,
   "metadata": {},
   "outputs": [
    {
     "name": "stdout",
     "output_type": "stream",
     "text": [
      "<class 'pandas.core.frame.DataFrame'>\n",
      "RangeIndex: 891 entries, 0 to 890\n",
      "Data columns (total 12 columns):\n",
      " #   Column       Non-Null Count  Dtype  \n",
      "---  ------       --------------  -----  \n",
      " 0   PassengerId  891 non-null    int64  \n",
      " 1   Survived     891 non-null    int64  \n",
      " 2   Pclass       891 non-null    int64  \n",
      " 3   Name         891 non-null    object \n",
      " 4   Sex          891 non-null    object \n",
      " 5   Age          714 non-null    float64\n",
      " 6   SibSp        891 non-null    int64  \n",
      " 7   Parch        891 non-null    int64  \n",
      " 8   Ticket       891 non-null    object \n",
      " 9   Fare         891 non-null    float64\n",
      " 10  Cabin        204 non-null    object \n",
      " 11  Embarked     889 non-null    object \n",
      "dtypes: float64(2), int64(5), object(5)\n",
      "memory usage: 83.7+ KB\n"
     ]
    }
   ],
   "source": [
    "# check the data types\n",
    "train.info()"
   ]
  },
  {
   "cell_type": "markdown",
   "metadata": {},
   "source": [
    "Object values: \n",
    "- Name\n",
    "- Sex\n",
    "- Ticket\n",
    "- Cabin\n",
    "- Embarked(Cherbourg, Queenstown, Southampton)"
   ]
  },
  {
   "cell_type": "code",
   "execution_count": 8,
   "metadata": {},
   "outputs": [
    {
     "data": {
      "text/plain": [
       "PassengerId     0.000000\n",
       "Survived        0.000000\n",
       "Pclass          0.000000\n",
       "Name            0.000000\n",
       "Sex             0.000000\n",
       "Age            19.865320\n",
       "SibSp           0.000000\n",
       "Parch           0.000000\n",
       "Ticket          0.000000\n",
       "Fare            0.000000\n",
       "Cabin          77.104377\n",
       "Embarked        0.224467\n",
       "dtype: float64"
      ]
     },
     "execution_count": 8,
     "metadata": {},
     "output_type": "execute_result"
    }
   ],
   "source": [
    "# check missing values\n",
    "\n",
    "train.isnull().sum()    # missing values: Age 177/891, Cabin 687/891, Embarked 2/891\n",
    "train.isnull().sum() / len(train) * 100"
   ]
  },
  {
   "cell_type": "code",
   "execution_count": 9,
   "metadata": {},
   "outputs": [
    {
     "name": "stdout",
     "output_type": "stream",
     "text": [
      "General Correlation: \n",
      "             PassengerId  Survived    Pclass       Age     SibSp     Parch  \\\n",
      "PassengerId     1.000000 -0.005007 -0.035144  0.036847 -0.057527 -0.001652   \n",
      "Survived       -0.005007  1.000000 -0.338481 -0.077221 -0.035322  0.081629   \n",
      "Pclass         -0.035144 -0.338481  1.000000 -0.369226  0.083081  0.018443   \n",
      "Age             0.036847 -0.077221 -0.369226  1.000000 -0.308247 -0.189119   \n",
      "SibSp          -0.057527 -0.035322  0.083081 -0.308247  1.000000  0.414838   \n",
      "Parch          -0.001652  0.081629  0.018443 -0.189119  0.414838  1.000000   \n",
      "Fare            0.012658  0.257307 -0.549500  0.096067  0.159651  0.216225   \n",
      "\n",
      "                 Fare  \n",
      "PassengerId  0.012658  \n",
      "Survived     0.257307  \n",
      "Pclass      -0.549500  \n",
      "Age          0.096067  \n",
      "SibSp        0.159651  \n",
      "Parch        0.216225  \n",
      "Fare         1.000000  \n",
      "\n",
      "Correlation Dead/Survived: \n",
      "Survived       1.000000\n",
      "Fare           0.257307\n",
      "Parch          0.081629\n",
      "PassengerId   -0.005007\n",
      "SibSp         -0.035322\n",
      "Age           -0.077221\n",
      "Pclass        -0.338481\n",
      "Name: Survived, dtype: float64\n"
     ]
    }
   ],
   "source": [
    "# data correlations\n",
    "\n",
    "print(\"General Correlation: \\n{}\".format(train.corr()))\n",
    "print(\"\\nCorrelation Dead/Survived: \\n{}\".format(train.corr()[\"Survived\"].sort_values(ascending=False)))"
   ]
  },
  {
   "cell_type": "code",
   "execution_count": 24,
   "metadata": {},
   "outputs": [
    {
     "data": {
      "image/png": "[encoded data removed]",
      "text/plain": [
       "<Figure size 432x288 with 2 Axes>"
      ]
     },
     "metadata": {
      "needs_background": "light"
     },
     "output_type": "display_data"
    }
   ],
   "source": [
    "sns.heatmap(train.corr(), annot=True)\n",
    "plt.savefig(\"images/correlations.png\")"
   ]
  },
  {
   "cell_type": "code",
   "execution_count": 25,
   "metadata": {},
   "outputs": [
    {
     "data": {
      "image/png": "[encoded data removed]",
      "text/plain": [
       "<Figure size 720x504 with 9 Axes>"
      ]
     },
     "metadata": {
      "needs_background": "light"
     },
     "output_type": "display_data"
    }
   ],
   "source": [
    "train.hist(bins=10, figsize=(10,7))\n",
    "plt.savefig(\"images/distributions.png\")"
   ]
  },
  {
   "cell_type": "code",
   "execution_count": 33,
   "metadata": {},
   "outputs": [
    {
     "name": "stdout",
     "output_type": "stream",
     "text": [
      "Tot not survived: 549\n",
      "Tot survived:     342\n",
      "\n",
      "% not survived: 0.62\n",
      "% survived:     0.38\n"
     ]
    },
    {
     "data": {
      "image/png": "[encoded data removed]",
      "text/plain": [
       "<Figure size 720x504 with 1 Axes>"
      ]
     },
     "metadata": {
      "needs_background": "light"
     },
     "output_type": "display_data"
    }
   ],
   "source": [
    "# survived/dead\n",
    "\n",
    "train.Survived.value_counts().plot(kind=\"bar\", figsize=(10, 7), color=(\"#ed0e0e\", \"#04bf1a\"))  # alpha = bar opacity\n",
    "plt.xticks(rotation=0)\n",
    "plt.title(\"Survival (1= Survived)\")\n",
    "plt.savefig(\"images/survival-dead.png\")\n",
    "\n",
    "\n",
    "not_survived = len(train.loc[train.Survived == 0][\"Survived\"])\n",
    "survived = len(train.loc[train.Survived == 1][\"Survived\"])\n",
    "print(\"Tot not survived: {}\".format(not_survived))\n",
    "print(\"Tot survived:     {}\".format(survived))\n",
    "\n",
    "print(\"\\n% not survived: {:.2f}\".format(not_survived / len(train[\"Survived\"])))\n",
    "print(\"% survived:     {:.2f}\".format(survived / len(train[\"Survived\"])))"
   ]
  },
  {
   "cell_type": "code",
   "execution_count": 40,
   "metadata": {},
   "outputs": [
    {
     "name": "stdout",
     "output_type": "stream",
     "text": [
      "% female: 0.35\n",
      "% male: 0.65\n"
     ]
    },
    {
     "data": {
      "image/png": "[encoded data removed]",
      "text/plain": [
       "<Figure size 720x504 with 1 Axes>"
      ]
     },
     "metadata": {
      "needs_background": "light"
     },
     "output_type": "display_data"
    }
   ],
   "source": [
    "train.Sex.value_counts().plot(kind=\"bar\", figsize=(10, 7), color=(\"#1d70f5\", \"#dc8df2\"))\n",
    "plt.xticks(rotation=0)\n",
    "plt.title(\"Sex\")\n",
    "plt.savefig(\"images/male-female.png\")\n",
    "\n",
    "female = len(train.loc[train.Sex == \"female\"][\"Sex\"])   # 314\n",
    "male = len(train.loc[train.Sex == \"male\"][\"Sex\"])       # 577\n",
    "\n",
    "print(\"% female: {:.2f}\".format(female / len(train[\"Sex\"])))\n",
    "print(\"% male: {:.2f}\".format(male / len(train[\"Sex\"])))"
   ]
  },
  {
   "cell_type": "code",
   "execution_count": 47,
   "metadata": {},
   "outputs": [
    {
     "name": "stdout",
     "output_type": "stream",
     "text": [
      "% S: 0.72\n",
      "% C: 0.19\n",
      "% Q: 0.09\n"
     ]
    },
    {
     "data": {
      "image/png": "[encoded data removed]",
      "text/plain": [
       "<Figure size 720x504 with 1 Axes>"
      ]
     },
     "metadata": {
      "needs_background": "light"
     },
     "output_type": "display_data"
    }
   ],
   "source": [
    "train.Embarked.value_counts().plot(kind=\"bar\", figsize=(10, 7), color=[\"#1d70f5\", \"#04bf1a\", \"#d99a09\"])\n",
    "plt.xticks(rotation=0)\n",
    "plt.title(\"Embarked\")\n",
    "plt.savefig(\"images/embarked.png\")\n",
    "\n",
    "\n",
    "S = len(train.loc[train.Embarked == \"S\"][\"Embarked\"])   # 644\n",
    "C = len(train.loc[train.Embarked == \"C\"][\"Embarked\"])   # 168\n",
    "Q = len(train.loc[train.Embarked == \"Q\"][\"Embarked\"])   # 77\n",
    "\n",
    "\n",
    "print(\"% S: {:.2f}\".format(S / len(train[\"Embarked\"])))\n",
    "print(\"% C: {:.2f}\".format(C / len(train[\"Embarked\"])))\n",
    "print(\"% Q: {:.2f}\".format(Q / len(train[\"Embarked\"])))"
   ]
  },
  {
   "cell_type": "code",
   "execution_count": 48,
   "metadata": {},
   "outputs": [
    {
     "name": "stdout",
     "output_type": "stream",
     "text": [
      "% 1: 0.24\n",
      "% 2: 0.21\n",
      "% 3: 0.55\n"
     ]
    },
    {
     "data": {
      "image/png": "[encoded data removed]",
      "text/plain": [
       "<Figure size 720x504 with 1 Axes>"
      ]
     },
     "metadata": {
      "needs_background": "light"
     },
     "output_type": "display_data"
    }
   ],
   "source": [
    "train.Pclass.value_counts().plot(kind=\"bar\", figsize=(10, 7), color=[\"#1d70f5\", \"#04bf1a\", \"#d99a09\"])\n",
    "plt.xticks(rotation=0)\n",
    "plt.title(\"Pclass\")\n",
    "plt.savefig(\"images/pclass.png\")\n",
    "\n",
    "first = len(train.loc[train.Pclass == 1][\"Pclass\"])    # 216\n",
    "second = len(train.loc[train.Pclass == 2][\"Pclass\"])   # 184\n",
    "third = len(train.loc[train.Pclass == 3][\"Pclass\"])    # 491\n",
    "\n",
    "\n",
    "print(\"% 1: {:.2f}\".format(first / len(train[\"Pclass\"])))\n",
    "print(\"% 2: {:.2f}\".format(second / len(train[\"Pclass\"])))\n",
    "print(\"% 3: {:.2f}\".format(third / len(train[\"Pclass\"])))"
   ]
  },
  {
   "cell_type": "code",
   "execution_count": 50,
   "metadata": {},
   "outputs": [
    {
     "data": {
      "image/png": "[encoded data removed]",
      "text/plain": [
       "<Figure size 720x504 with 1 Axes>"
      ]
     },
     "metadata": {
      "needs_background": "light"
     },
     "output_type": "display_data"
    }
   ],
   "source": [
    "dead = train[train[\"Survived\"] == 0][\"Sex\"].value_counts()\n",
    "survived = train[train[\"Survived\"] == 1][\"Sex\"].value_counts()\n",
    "\n",
    "df = pd.DataFrame([dead, survived])\n",
    "df.index = [\"Dead\", \"Survived\"]\n",
    "df.plot(kind=\"bar\", figsize=(10, 7), color=[\"#1d70f5\", \"#dc8df2\"])\n",
    "plt.title(\"Male and Female Survived\")\n",
    "plt.xticks(rotation=0)\n",
    "plt.savefig(\"images/female-male-survived.png\")"
   ]
  },
  {
   "cell_type": "code",
   "execution_count": 51,
   "metadata": {},
   "outputs": [
    {
     "data": {
      "image/png": "[encoded data removed]",
      "text/plain": [
       "<Figure size 720x504 with 1 Axes>"
      ]
     },
     "metadata": {
      "needs_background": "light"
     },
     "output_type": "display_data"
    }
   ],
   "source": [
    "dead = train[train[\"Survived\"] == 0][\"Pclass\"].value_counts()\n",
    "survived = train[train[\"Survived\"] == 1][\"Pclass\"].value_counts()\n",
    "\n",
    "df = pd.DataFrame([dead, survived])\n",
    "df.index = [\"Dead\", \"Survived\"]\n",
    "df.plot(kind=\"bar\", figsize=(10, 7), color=[\"#1d70f5\", \"#04bf1a\", \"#d99a09\"])\n",
    "plt.title(\"Class Survived\")\n",
    "plt.xticks(rotation=0)\n",
    "plt.savefig(\"images/pclass-survived.png\")"
   ]
  },
  {
   "cell_type": "code",
   "execution_count": 52,
   "metadata": {},
   "outputs": [
    {
     "data": {
      "image/png": "[encoded data removed]",
      "text/plain": [
       "<Figure size 720x504 with 1 Axes>"
      ]
     },
     "metadata": {
      "needs_background": "light"
     },
     "output_type": "display_data"
    }
   ],
   "source": [
    "dead = train[train[\"Survived\"] == 0][\"Embarked\"].value_counts()\n",
    "survived = train[train[\"Survived\"] == 1][\"Embarked\"].value_counts()\n",
    "\n",
    "df = pd.DataFrame([dead, survived])\n",
    "df.index = [\"Dead\", \"Survived\"]\n",
    "df.plot(kind=\"bar\", figsize=(10, 7), color=[\"#1d70f5\", \"#04bf1a\", \"#d99a09\"])\n",
    "plt.title(\"Embarked Survived\")\n",
    "plt.xticks(rotation=0)\n",
    "plt.savefig(\"images/embarked-survived.png\")"
   ]
  },
  {
   "cell_type": "code",
   "execution_count": 54,
   "metadata": {},
   "outputs": [
    {
     "data": {
      "image/png": "[encoded data removed]",
      "text/plain": [
       "<Figure size 720x504 with 1 Axes>"
      ]
     },
     "metadata": {
      "needs_background": "light"
     },
     "output_type": "display_data"
    },
    {
     "data": {
      "image/png": "[encoded data removed]",
      "text/plain": [
       "<Figure size 720x504 with 1 Axes>"
      ]
     },
     "metadata": {
      "needs_background": "light"
     },
     "output_type": "display_data"
    },
    {
     "data": {
      "image/png": "[encoded data removed]",
      "text/plain": [
       "<Figure size 720x504 with 1 Axes>"
      ]
     },
     "metadata": {
      "needs_background": "light"
     },
     "output_type": "display_data"
    }
   ],
   "source": [
    "# age distribution\n",
    "train[\"Age\"].hist(bins=range(100), figsize=(10, 7))\n",
    "plt.title(\"Age Distribution\")\n",
    "plt.xlabel(\"Age\")\n",
    "plt.savefig(\"images/age-distributions.png\")\n",
    "plt.show()\n",
    "\n",
    "# age distribution survived/dead\n",
    "dead = train[train[\"Survived\"] == 0]\n",
    "survived = train[train[\"Survived\"] == 1]\n",
    "\n",
    "# died age distribution\n",
    "dead[\"Age\"].hist(bins=range(100), figsize=(10, 7), color=\"#ed0e0e\", label=\"Dead\")\n",
    "plt.xlabel(\"Age\")\n",
    "plt.title(\"Dead Age Distribution\")\n",
    "plt.savefig(\"images/age-dead-distributions.png\")\n",
    "plt.show()\n",
    "\n",
    "\n",
    "# survived age distribution\n",
    "survived[\"Age\"].hist(bins=range(100), figsize=(10, 7), color=\"#04bf1a\", label=\"Survived\")\n",
    "plt.xlabel(\"Age\")\n",
    "plt.title(\"Survived Age Distribution\")\n",
    "plt.savefig(\"images/age-survived-distributions.png\")\n",
    "plt.show()\n"
   ]
  },
  {
   "cell_type": "code",
   "execution_count": 55,
   "metadata": {},
   "outputs": [],
   "source": [
    "# replace SibSp and Parch whit their sum\n",
    "\n",
    "train[\"Sib + Parch\"] = train[\"SibSp\"] + train[\"Parch\"]\n",
    "train = train.drop([\"SibSp\", \"Parch\"], axis=1)\n",
    "train.head()\n",
    "\n",
    "test_data[\"Sib + Parch\"] = test_data[\"SibSp\"] +test_data[\"Parch\"]\n",
    "test_data = test_data.drop([\"SibSp\", \"Parch\"], axis=1)"
   ]
  },
  {
   "cell_type": "code",
   "execution_count": 56,
   "metadata": {},
   "outputs": [
    {
     "data": {
      "text/plain": [
       "array([[-0.56573646, -0.50244517,  0.05915988],\n",
       "       [ 0.66386103,  0.78684529,  0.05915988],\n",
       "       [-0.25833709, -0.48885426, -0.56097483],\n",
       "       ...,\n",
       "       [-0.1046374 , -0.17626324,  1.29942929],\n",
       "       [-0.25833709, -0.04438104, -0.56097483],\n",
       "       [ 0.20276197, -0.49237783, -0.56097483]])"
      ]
     },
     "execution_count": 56,
     "metadata": {},
     "output_type": "execute_result"
    }
   ],
   "source": [
    "# transform and pipeline\n",
    "class DataFrameSelector(BaseEstimator, TransformerMixin):\n",
    "    def __init__(self, attribute_names):\n",
    "        self.attribute_names = attribute_names\n",
    "\n",
    "    def fit(self, X, y=None):\n",
    "        return self\n",
    "\n",
    "    def transform(self, X):\n",
    "        return X[self.attribute_names]\n",
    "\n",
    "\n",
    "# pipeline for numerical attributes\n",
    "num_pipeline = Pipeline([\n",
    "    (\"select_numeric\", DataFrameSelector([\"Age\", \"Fare\", \"Sib + Parch\"])),\n",
    "    (\"imputer\", SimpleImputer(strategy=\"median\")),   # for missing values\n",
    "    (\"std_scaler\", StandardScaler())\n",
    "])\n",
    "\n",
    "num_pipeline.fit_transform(train)"
   ]
  },
  {
   "cell_type": "code",
   "execution_count": 57,
   "metadata": {},
   "outputs": [
    {
     "data": {
      "text/plain": [
       "array([[0., 0., 1., ..., 0., 0., 1.],\n",
       "       [1., 0., 0., ..., 1., 0., 0.],\n",
       "       [0., 0., 1., ..., 0., 0., 1.],\n",
       "       ...,\n",
       "       [0., 0., 1., ..., 0., 0., 1.],\n",
       "       [1., 0., 0., ..., 1., 0., 0.],\n",
       "       [0., 0., 1., ..., 0., 1., 0.]])"
      ]
     },
     "execution_count": 57,
     "metadata": {},
     "output_type": "execute_result"
    }
   ],
   "source": [
    "# imputer for categorical columns\n",
    "class MostFrequentImputer(BaseEstimator, TransformerMixin):\n",
    "\n",
    "    def fit(self, X, y=None):\n",
    "        self.most_frequent_ = pd.Series([X[c].value_counts().index[0] for c in X],\n",
    "                                        index=X.columns)\n",
    "        return self\n",
    "\n",
    "    def transform(self, X, y=None):\n",
    "        return X.fillna(self.most_frequent_)\n",
    "\n",
    "# pipeline for categorical attributes\n",
    "cat_pipeline = Pipeline([\n",
    "    (\"select_cat\", DataFrameSelector([\"Pclass\", \"Sex\", \"Embarked\"])),\n",
    "    (\"imputer\", MostFrequentImputer()),\n",
    "    (\"cat_encoder\", OneHotEncoder(sparse=False))\n",
    "])\n",
    "\n",
    "cat_pipeline.fit_transform(train)"
   ]
  },
  {
   "cell_type": "code",
   "execution_count": 58,
   "metadata": {},
   "outputs": [],
   "source": [
    "# join numerical e categorical\n",
    "full_pipeline = ColumnTransformer([\n",
    "    (\"num\", num_pipeline, [\"Age\", \"Sib + Parch\", \"Fare\"]),\n",
    "    (\"cat\", cat_pipeline, [\"Pclass\", \"Sex\", \"Embarked\"]),\n",
    "])\n",
    "\n",
    "train_prepared = full_pipeline.fit_transform(train)"
   ]
  },
  {
   "cell_type": "code",
   "execution_count": 59,
   "metadata": {},
   "outputs": [],
   "source": [
    "X_train = full_pipeline.fit_transform(train)\n",
    "y_train = train[\"Survived\"]"
   ]
  },
  {
   "cell_type": "code",
   "execution_count": 60,
   "metadata": {},
   "outputs": [
    {
     "name": "stdout",
     "output_type": "stream",
     "text": [
      "SVM Accuracy: 0.8226841448189763\n"
     ]
    }
   ],
   "source": [
    "# train the model (SVM)\n",
    "svm_clf = SVC(gamma=\"auto\")\n",
    "svm_clf.fit(X_train, y_train)\n",
    "\n",
    "# make prediction\n",
    "X_test = full_pipeline.transform(test_data)\n",
    "y_pred = svm_clf.predict(X_test)\n",
    "\n",
    "# cross-validation for show how good the model is\n",
    "svm_scores = cross_val_score(svm_clf, X_train, y_train, cv=10)\n",
    "print(\"SVM Accuracy: {}\".format(svm_scores.mean()))"
   ]
  },
  {
   "cell_type": "code",
   "execution_count": 61,
   "metadata": {},
   "outputs": [
    {
     "name": "stdout",
     "output_type": "stream",
     "text": [
      "Fitting 5 folds for each of 32 candidates, totalling 160 fits\n",
      "[CV] END ........................C=1, gamma=1, kernel=linear; total time=   0.0s\n",
      "[CV] END ........................C=1, gamma=1, kernel=linear; total time=   0.0s\n",
      "[CV] END ........................C=1, gamma=1, kernel=linear; total time=   0.0s\n",
      "[CV] END ........................C=1, gamma=1, kernel=linear; total time=   0.0s\n",
      "[CV] END ........................C=1, gamma=1, kernel=linear; total time=   0.0s\n",
      "[CV] END ...........................C=1, gamma=1, kernel=rbf; total time=   0.0s\n",
      "[CV] END ...........................C=1, gamma=1, kernel=rbf; total time=   0.0s\n",
      "[CV] END ...........................C=1, gamma=1, kernel=rbf; total time=   0.0s\n",
      "[CV] END ...........................C=1, gamma=1, kernel=rbf; total time=   0.0s\n",
      "[CV] END ...........................C=1, gamma=1, kernel=rbf; total time=   0.0s\n",
      "[CV] END ......................C=1, gamma=0.1, kernel=linear; total time=   0.0s\n",
      "[CV] END ......................C=1, gamma=0.1, kernel=linear; total time=   0.0s\n",
      "[CV] END ......................C=1, gamma=0.1, kernel=linear; total time=   0.0s\n",
      "[CV] END ......................C=1, gamma=0.1, kernel=linear; total time=   0.0s\n",
      "[CV] END ......................C=1, gamma=0.1, kernel=linear; total time=   0.0s\n",
      "[CV] END .........................C=1, gamma=0.1, kernel=rbf; total time=   0.0s\n",
      "[CV] END .........................C=1, gamma=0.1, kernel=rbf; total time=   0.0s\n",
      "[CV] END .........................C=1, gamma=0.1, kernel=rbf; total time=   0.0s\n",
      "[CV] END .........................C=1, gamma=0.1, kernel=rbf; total time=   0.0s\n",
      "[CV] END .........................C=1, gamma=0.1, kernel=rbf; total time=   0.0s\n",
      "[CV] END ....................C=1, gamma=0.001, kernel=linear; total time=   0.0s\n",
      "[CV] END ....................C=1, gamma=0.001, kernel=linear; total time=   0.0s\n",
      "[CV] END ....................C=1, gamma=0.001, kernel=linear; total time=   0.0s\n",
      "[CV] END ....................C=1, gamma=0.001, kernel=linear; total time=   0.0s\n",
      "[CV] END ....................C=1, gamma=0.001, kernel=linear; total time=   0.0s\n",
      "[CV] END .......................C=1, gamma=0.001, kernel=rbf; total time=   0.0s\n",
      "[CV] END .......................C=1, gamma=0.001, kernel=rbf; total time=   0.0s\n",
      "[CV] END .......................C=1, gamma=0.001, kernel=rbf; total time=   0.0s\n",
      "[CV] END .......................C=1, gamma=0.001, kernel=rbf; total time=   0.0s\n",
      "[CV] END .......................C=1, gamma=0.001, kernel=rbf; total time=   0.0s\n",
      "[CV] END ...................C=1, gamma=0.0001, kernel=linear; total time=   0.0s\n",
      "[CV] END ...................C=1, gamma=0.0001, kernel=linear; total time=   0.0s\n",
      "[CV] END ...................C=1, gamma=0.0001, kernel=linear; total time=   0.0s\n",
      "[CV] END ...................C=1, gamma=0.0001, kernel=linear; total time=   0.0s\n",
      "[CV] END ...................C=1, gamma=0.0001, kernel=linear; total time=   0.0s\n",
      "[CV] END ......................C=1, gamma=0.0001, kernel=rbf; total time=   0.0s\n",
      "[CV] END ......................C=1, gamma=0.0001, kernel=rbf; total time=   0.0s\n",
      "[CV] END ......................C=1, gamma=0.0001, kernel=rbf; total time=   0.0s\n",
      "[CV] END ......................C=1, gamma=0.0001, kernel=rbf; total time=   0.0s\n",
      "[CV] END ......................C=1, gamma=0.0001, kernel=rbf; total time=   0.0s\n",
      "[CV] END .......................C=10, gamma=1, kernel=linear; total time=   0.0s\n",
      "[CV] END .......................C=10, gamma=1, kernel=linear; total time=   0.0s\n",
      "[CV] END .......................C=10, gamma=1, kernel=linear; total time=   0.0s\n",
      "[CV] END .......................C=10, gamma=1, kernel=linear; total time=   0.0s\n",
      "[CV] END .......................C=10, gamma=1, kernel=linear; total time=   0.0s\n",
      "[CV] END ..........................C=10, gamma=1, kernel=rbf; total time=   0.0s\n",
      "[CV] END ..........................C=10, gamma=1, kernel=rbf; total time=   0.0s\n",
      "[CV] END ..........................C=10, gamma=1, kernel=rbf; total time=   0.0s\n",
      "[CV] END ..........................C=10, gamma=1, kernel=rbf; total time=   0.0s\n",
      "[CV] END ..........................C=10, gamma=1, kernel=rbf; total time=   0.0s\n",
      "[CV] END .....................C=10, gamma=0.1, kernel=linear; total time=   0.0s\n",
      "[CV] END .....................C=10, gamma=0.1, kernel=linear; total time=   0.0s\n",
      "[CV] END .....................C=10, gamma=0.1, kernel=linear; total time=   0.0s\n",
      "[CV] END .....................C=10, gamma=0.1, kernel=linear; total time=   0.0s\n",
      "[CV] END .....................C=10, gamma=0.1, kernel=linear; total time=   0.0s\n",
      "[CV] END ........................C=10, gamma=0.1, kernel=rbf; total time=   0.0s\n",
      "[CV] END ........................C=10, gamma=0.1, kernel=rbf; total time=   0.0s\n",
      "[CV] END ........................C=10, gamma=0.1, kernel=rbf; total time=   0.0s\n",
      "[CV] END ........................C=10, gamma=0.1, kernel=rbf; total time=   0.0s\n",
      "[CV] END ........................C=10, gamma=0.1, kernel=rbf; total time=   0.0s\n",
      "[CV] END ...................C=10, gamma=0.001, kernel=linear; total time=   0.0s\n",
      "[CV] END ...................C=10, gamma=0.001, kernel=linear; total time=   0.0s\n",
      "[CV] END ...................C=10, gamma=0.001, kernel=linear; total time=   0.0s\n",
      "[CV] END ...................C=10, gamma=0.001, kernel=linear; total time=   0.0s\n",
      "[CV] END ...................C=10, gamma=0.001, kernel=linear; total time=   0.0s\n",
      "[CV] END ......................C=10, gamma=0.001, kernel=rbf; total time=   0.0s\n",
      "[CV] END ......................C=10, gamma=0.001, kernel=rbf; total time=   0.0s\n",
      "[CV] END ......................C=10, gamma=0.001, kernel=rbf; total time=   0.0s\n",
      "[CV] END ......................C=10, gamma=0.001, kernel=rbf; total time=   0.0s\n",
      "[CV] END ......................C=10, gamma=0.001, kernel=rbf; total time=   0.0s\n",
      "[CV] END ..................C=10, gamma=0.0001, kernel=linear; total time=   0.0s\n",
      "[CV] END ..................C=10, gamma=0.0001, kernel=linear; total time=   0.0s\n",
      "[CV] END ..................C=10, gamma=0.0001, kernel=linear; total time=   0.0s\n",
      "[CV] END ..................C=10, gamma=0.0001, kernel=linear; total time=   0.0s\n",
      "[CV] END ..................C=10, gamma=0.0001, kernel=linear; total time=   0.0s\n",
      "[CV] END .....................C=10, gamma=0.0001, kernel=rbf; total time=   0.0s\n",
      "[CV] END .....................C=10, gamma=0.0001, kernel=rbf; total time=   0.0s\n",
      "[CV] END .....................C=10, gamma=0.0001, kernel=rbf; total time=   0.0s\n",
      "[CV] END .....................C=10, gamma=0.0001, kernel=rbf; total time=   0.0s\n",
      "[CV] END .....................C=10, gamma=0.0001, kernel=rbf; total time=   0.0s\n",
      "[CV] END ......................C=100, gamma=1, kernel=linear; total time=   0.4s\n",
      "[CV] END ......................C=100, gamma=1, kernel=linear; total time=   0.2s\n",
      "[CV] END ......................C=100, gamma=1, kernel=linear; total time=   0.4s\n",
      "[CV] END ......................C=100, gamma=1, kernel=linear; total time=   0.0s\n",
      "[CV] END ......................C=100, gamma=1, kernel=linear; total time=   0.1s\n",
      "[CV] END .........................C=100, gamma=1, kernel=rbf; total time=   0.0s\n",
      "[CV] END .........................C=100, gamma=1, kernel=rbf; total time=   0.0s\n",
      "[CV] END .........................C=100, gamma=1, kernel=rbf; total time=   0.0s\n",
      "[CV] END .........................C=100, gamma=1, kernel=rbf; total time=   0.0s\n",
      "[CV] END .........................C=100, gamma=1, kernel=rbf; total time=   0.0s\n",
      "[CV] END ....................C=100, gamma=0.1, kernel=linear; total time=   0.4s\n",
      "[CV] END ....................C=100, gamma=0.1, kernel=linear; total time=   0.2s\n",
      "[CV] END ....................C=100, gamma=0.1, kernel=linear; total time=   0.4s\n",
      "[CV] END ....................C=100, gamma=0.1, kernel=linear; total time=   0.0s\n",
      "[CV] END ....................C=100, gamma=0.1, kernel=linear; total time=   0.1s\n",
      "[CV] END .......................C=100, gamma=0.1, kernel=rbf; total time=   0.0s\n",
      "[CV] END .......................C=100, gamma=0.1, kernel=rbf; total time=   0.0s\n",
      "[CV] END .......................C=100, gamma=0.1, kernel=rbf; total time=   0.0s\n",
      "[CV] END .......................C=100, gamma=0.1, kernel=rbf; total time=   0.0s\n",
      "[CV] END .......................C=100, gamma=0.1, kernel=rbf; total time=   0.0s\n",
      "[CV] END ..................C=100, gamma=0.001, kernel=linear; total time=   0.4s\n",
      "[CV] END ..................C=100, gamma=0.001, kernel=linear; total time=   0.2s\n",
      "[CV] END ..................C=100, gamma=0.001, kernel=linear; total time=   0.4s\n",
      "[CV] END ..................C=100, gamma=0.001, kernel=linear; total time=   0.0s\n",
      "[CV] END ..................C=100, gamma=0.001, kernel=linear; total time=   0.1s\n",
      "[CV] END .....................C=100, gamma=0.001, kernel=rbf; total time=   0.0s\n",
      "[CV] END .....................C=100, gamma=0.001, kernel=rbf; total time=   0.0s\n",
      "[CV] END .....................C=100, gamma=0.001, kernel=rbf; total time=   0.0s\n",
      "[CV] END .....................C=100, gamma=0.001, kernel=rbf; total time=   0.0s\n",
      "[CV] END .....................C=100, gamma=0.001, kernel=rbf; total time=   0.0s\n",
      "[CV] END .................C=100, gamma=0.0001, kernel=linear; total time=   0.5s\n",
      "[CV] END .................C=100, gamma=0.0001, kernel=linear; total time=   0.2s\n",
      "[CV] END .................C=100, gamma=0.0001, kernel=linear; total time=   0.4s\n",
      "[CV] END .................C=100, gamma=0.0001, kernel=linear; total time=   0.0s\n",
      "[CV] END .................C=100, gamma=0.0001, kernel=linear; total time=   0.1s\n",
      "[CV] END ....................C=100, gamma=0.0001, kernel=rbf; total time=   0.0s\n",
      "[CV] END ....................C=100, gamma=0.0001, kernel=rbf; total time=   0.0s\n",
      "[CV] END ....................C=100, gamma=0.0001, kernel=rbf; total time=   0.0s\n",
      "[CV] END ....................C=100, gamma=0.0001, kernel=rbf; total time=   0.0s\n",
      "[CV] END ....................C=100, gamma=0.0001, kernel=rbf; total time=   0.0s\n",
      "[CV] END .....................C=1000, gamma=1, kernel=linear; total time=  35.9s\n",
      "[CV] END .....................C=1000, gamma=1, kernel=linear; total time=   2.8s\n",
      "[CV] END .....................C=1000, gamma=1, kernel=linear; total time=  10.4s\n",
      "[CV] END .....................C=1000, gamma=1, kernel=linear; total time= 1.4min\n",
      "[CV] END .....................C=1000, gamma=1, kernel=linear; total time=  58.3s\n",
      "[CV] END ........................C=1000, gamma=1, kernel=rbf; total time=   0.4s\n",
      "[CV] END ........................C=1000, gamma=1, kernel=rbf; total time=   1.2s\n",
      "[CV] END ........................C=1000, gamma=1, kernel=rbf; total time=   0.1s\n",
      "[CV] END ........................C=1000, gamma=1, kernel=rbf; total time=   0.4s\n",
      "[CV] END ........................C=1000, gamma=1, kernel=rbf; total time=   0.4s\n",
      "[CV] END ...................C=1000, gamma=0.1, kernel=linear; total time=  38.4s\n",
      "[CV] END ...................C=1000, gamma=0.1, kernel=linear; total time=   2.6s\n",
      "[CV] END ...................C=1000, gamma=0.1, kernel=linear; total time=  11.7s\n",
      "[CV] END ...................C=1000, gamma=0.1, kernel=linear; total time= 1.4min\n",
      "[CV] END ...................C=1000, gamma=0.1, kernel=linear; total time=  54.7s\n",
      "[CV] END ......................C=1000, gamma=0.1, kernel=rbf; total time=   0.1s\n",
      "[CV] END ......................C=1000, gamma=0.1, kernel=rbf; total time=   0.1s\n",
      "[CV] END ......................C=1000, gamma=0.1, kernel=rbf; total time=   0.3s\n",
      "[CV] END ......................C=1000, gamma=0.1, kernel=rbf; total time=   0.2s\n",
      "[CV] END ......................C=1000, gamma=0.1, kernel=rbf; total time=   0.3s\n",
      "[CV] END .................C=1000, gamma=0.001, kernel=linear; total time=  41.3s\n",
      "[CV] END .................C=1000, gamma=0.001, kernel=linear; total time=   2.5s\n",
      "[CV] END .................C=1000, gamma=0.001, kernel=linear; total time=   9.4s\n",
      "[CV] END .................C=1000, gamma=0.001, kernel=linear; total time= 1.5min\n",
      "[CV] END .................C=1000, gamma=0.001, kernel=linear; total time=  53.9s\n",
      "[CV] END ....................C=1000, gamma=0.001, kernel=rbf; total time=   0.0s\n",
      "[CV] END ....................C=1000, gamma=0.001, kernel=rbf; total time=   0.0s\n",
      "[CV] END ....................C=1000, gamma=0.001, kernel=rbf; total time=   0.0s\n",
      "[CV] END ....................C=1000, gamma=0.001, kernel=rbf; total time=   0.0s\n",
      "[CV] END ....................C=1000, gamma=0.001, kernel=rbf; total time=   0.0s\n",
      "[CV] END ................C=1000, gamma=0.0001, kernel=linear; total time=  37.5s\n",
      "[CV] END ................C=1000, gamma=0.0001, kernel=linear; total time=   2.7s\n",
      "[CV] END ................C=1000, gamma=0.0001, kernel=linear; total time=   8.7s\n",
      "[CV] END ................C=1000, gamma=0.0001, kernel=linear; total time= 1.6min\n",
      "[CV] END ................C=1000, gamma=0.0001, kernel=linear; total time=  58.4s\n",
      "[CV] END ...................C=1000, gamma=0.0001, kernel=rbf; total time=   0.0s\n",
      "[CV] END ...................C=1000, gamma=0.0001, kernel=rbf; total time=   0.0s\n",
      "[CV] END ...................C=1000, gamma=0.0001, kernel=rbf; total time=   0.0s\n",
      "[CV] END ...................C=1000, gamma=0.0001, kernel=rbf; total time=   0.0s\n",
      "[CV] END ...................C=1000, gamma=0.0001, kernel=rbf; total time=   0.0s\n"
     ]
    },
    {
     "data": {
      "text/plain": [
       "GridSearchCV(estimator=SVC(),\n",
       "             param_grid={'C': [1, 10, 100, 1000],\n",
       "                         'gamma': [1, 0.1, 0.001, 0.0001],\n",
       "                         'kernel': ['linear', 'rbf']},\n",
       "             verbose=2)"
      ]
     },
     "execution_count": 61,
     "metadata": {},
     "output_type": "execute_result"
    }
   ],
   "source": [
    "# fine-tune hyperparameters with GrindSearch\n",
    "param_grid = {\n",
    "    \"C\":[1, 10, 100, 1000],\n",
    "    \"gamma\":[1, 0.1, 0.001, 0.0001], \n",
    "    \"kernel\":[\"linear\", \"rbf\"]}\n",
    "\n",
    "grid = GridSearchCV(SVC(),param_grid,refit = True, verbose=2)\n",
    "grid.fit(X_train, y_train)"
   ]
  },
  {
   "cell_type": "code",
   "execution_count": 62,
   "metadata": {},
   "outputs": [
    {
     "name": "stdout",
     "output_type": "stream",
     "text": [
      "{'C': 10, 'gamma': 0.1, 'kernel': 'rbf'}\n"
     ]
    }
   ],
   "source": [
    "print(grid.best_params_)"
   ]
  },
  {
   "cell_type": "code",
   "execution_count": 63,
   "metadata": {},
   "outputs": [
    {
     "name": "stdout",
     "output_type": "stream",
     "text": [
      "SVM Accuracy: 0.828314606741573\n"
     ]
    }
   ],
   "source": [
    "# train the model (SVM)\n",
    "svm_clf = SVC(C=10, gamma=0.1, kernel=\"rbf\")\n",
    "svm_clf.fit(X_train, y_train)\n",
    "\n",
    "# make prediction\n",
    "X_test = full_pipeline.transform(test_data)\n",
    "y_pred = svm_clf.predict(X_test)\n",
    "\n",
    "# cross-validation for show how good the model is\n",
    "svm_2_scores = cross_val_score(svm_clf, X_train, y_train, cv=10)\n",
    "print(\"SVM Accuracy: {}\".format(svm_2_scores.mean()))"
   ]
  },
  {
   "cell_type": "code",
   "execution_count": 64,
   "metadata": {},
   "outputs": [
    {
     "name": "stdout",
     "output_type": "stream",
     "text": [
      "RandomForest Accuracy: 0.8103870162297129\n"
     ]
    }
   ],
   "source": [
    "# train the model (RandomForest)\n",
    "\n",
    "forest_clf = RandomForestClassifier(n_estimators=1000, random_state=42) # n_estimators=100, random_state=42 - 80 %\n",
    "forest_scores = cross_val_score(forest_clf, X_train, y_train, cv=10)\n",
    "print(\"RandomForest Accuracy: {}\".format(forest_scores.mean())) "
   ]
  },
  {
   "cell_type": "code",
   "execution_count": 65,
   "metadata": {},
   "outputs": [
    {
     "data": {
      "text/plain": [
       "GridSearchCV(cv=10, estimator=RandomForestClassifier(),\n",
       "             param_grid={'criterion': ['gini', 'entropy'],\n",
       "                         'max_depth': [4, 5, 6, 7, 8],\n",
       "                         'max_features': ['auto', 'sqrt', 'log2'],\n",
       "                         'n_estimators': [200, 500]})"
      ]
     },
     "execution_count": 65,
     "metadata": {},
     "output_type": "execute_result"
    }
   ],
   "source": [
    "param_grid = { \n",
    "    'n_estimators': [200, 500],\n",
    "    'max_features': ['auto', 'sqrt', 'log2'],\n",
    "    'max_depth' : [4,5,6,7,8],\n",
    "    'criterion' :['gini', 'entropy']\n",
    "}\n",
    "\n",
    "grind_forest = GridSearchCV(RandomForestClassifier(), param_grid=param_grid, cv= 10)\n",
    "grind_forest.fit(X_train, y_train)"
   ]
  },
  {
   "cell_type": "code",
   "execution_count": 66,
   "metadata": {},
   "outputs": [
    {
     "data": {
      "text/plain": [
       "{'criterion': 'gini',\n",
       " 'max_depth': 8,\n",
       " 'max_features': 'log2',\n",
       " 'n_estimators': 500}"
      ]
     },
     "execution_count": 66,
     "metadata": {},
     "output_type": "execute_result"
    }
   ],
   "source": [
    "grind_forest.best_params_"
   ]
  },
  {
   "cell_type": "code",
   "execution_count": 67,
   "metadata": {},
   "outputs": [
    {
     "name": "stdout",
     "output_type": "stream",
     "text": [
      "RandomForest 2 Accuracy: 0.8406741573033708\n"
     ]
    }
   ],
   "source": [
    "# train the model (RandomForest)\n",
    "\n",
    "forest_clf = RandomForestClassifier(criterion=\"entropy\", max_depth=8, max_features=\"auto\", n_estimators=200, random_state=42) # n_estimators=100, random_state=42 - 80 %\n",
    "forest_2_scores = cross_val_score(forest_clf, X_train, y_train, cv=10)\n",
    "\n",
    "print(\"RandomForest 2 Accuracy: {}\".format(forest_2_scores.mean()))  # 84%"
   ]
  },
  {
   "cell_type": "code",
   "execution_count": 68,
   "metadata": {},
   "outputs": [
    {
     "name": "stdout",
     "output_type": "stream",
     "text": [
      "K-nearest neighbors Accuracy: 0.8037078651685393\n"
     ]
    }
   ],
   "source": [
    "# K-nearest neighbors\n",
    "knn_clf = KNeighborsClassifier(n_neighbors=3)\n",
    "knn_clf.fit(X_train, y_train)\n",
    "\n",
    "y_pred = knn_clf.predict(X_test)\n",
    "knn_score =  cross_val_score(knn_clf, X_train, y_train, cv=10)\n",
    "print(\"K-nearest neighbors Accuracy: {}\".format(knn_score.mean()))   #80"
   ]
  },
  {
   "cell_type": "code",
   "execution_count": null,
   "metadata": {},
   "outputs": [],
   "source": []
  }
 ],
 "metadata": {
  "kernelspec": {
   "display_name": "Python 3",
   "language": "python",
   "name": "python3"
  },
  "language_info": {
   "codemirror_mode": {
    "name": "ipython",
    "version": 3
   },
   "file_extension": ".py",
   "mimetype": "text/x-python",
   "name": "python",
   "nbconvert_exporter": "python",
   "pygments_lexer": "ipython3",
   "version": "3.7.9"
  }
 },
 "nbformat": 4,
 "nbformat_minor": 4
}
