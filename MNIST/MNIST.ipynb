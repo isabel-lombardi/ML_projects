{
 "cells": [
  {
   "cell_type": "markdown",
   "id": "absolute-viking",
   "metadata": {},
   "source": [
    "# MNIST Handwritten Digit Classification Dataset"
   ]
  },
  {
   "cell_type": "markdown",
   "id": "undefined-education",
   "metadata": {},
   "source": [
    "The MNIST dataset contains 70000 small square 28x28 pixel grayscale images of handwritten single digits (0 to 9)   \n",
    "Each image has 784 characteristics representing the intensity of one pixel, from 0 (white) to 255 (black)"
   ]
  },
  {
   "cell_type": "code",
   "execution_count": 1,
   "id": "growing-vietnam",
   "metadata": {},
   "outputs": [],
   "source": [
    "import os\n",
    "import numpy as np\n",
    "import pandas as pd\n",
    "import seaborn as sns\n",
    "\n",
    "from sklearn.datasets import fetch_openml\n",
    "import matplotlib.pyplot as plt\n",
    "\n",
    "from sklearn.linear_model import SGDClassifier\n",
    "from sklearn.naive_bayes import GaussianNB\n",
    "from sklearn.neighbors import KNeighborsClassifier\n",
    "from sklearn.tree import DecisionTreeClassifier\n",
    "from sklearn.ensemble import RandomForestClassifier\n",
    "from sklearn.svm import SVC\n",
    "\n",
    "from sklearn.model_selection import cross_val_score,GridSearchCV  # RandomizedSearchCV \n",
    "\n",
    "from sklearn.preprocessing import StandardScaler\n",
    "from sklearn.model_selection import KFold\n"
   ]
  },
  {
   "cell_type": "markdown",
   "id": "human-musical",
   "metadata": {},
   "source": [
    "Use the MNIST dataset provided by Scikit-learn"
   ]
  },
  {
   "cell_type": "code",
   "execution_count": 2,
   "id": "hidden-indication",
   "metadata": {},
   "outputs": [
    {
     "data": {
      "text/plain": [
       "dict_keys(['data', 'target', 'frame', 'categories', 'feature_names', 'target_names', 'DESCR', 'details', 'url'])"
      ]
     },
     "execution_count": 2,
     "metadata": {},
     "output_type": "execute_result"
    }
   ],
   "source": [
    "mnist = fetch_openml('mnist_784', version=1, as_frame=False)\n",
    "mnist.keys()"
   ]
  },
  {
   "cell_type": "markdown",
   "id": "excellent-canvas",
   "metadata": {},
   "source": [
    "### Train-Test Split "
   ]
  },
  {
   "cell_type": "markdown",
   "id": "mobile-tragedy",
   "metadata": {},
   "source": [
    "This dataset is already split.    \n",
    "The first 60000 images are for the training set and the last 10000 images for the test set"
   ]
  },
  {
   "cell_type": "code",
   "execution_count": 3,
   "id": "headed-delta",
   "metadata": {},
   "outputs": [
    {
     "name": "stdout",
     "output_type": "stream",
     "text": [
      "(70000, 784) (70000,)\n",
      "<class 'numpy.ndarray'>\n",
      "\n",
      "X_train shape: (60000, 784)\n",
      "y_train shape: (60000,)\n",
      "X_test shape: (10000, 784)\n",
      "y_test shape: (10000,)\n"
     ]
    }
   ],
   "source": [
    "# values in np.array\n",
    "X, y = mnist[\"data\"], mnist[\"target\"]\n",
    "print(X.shape, y.shape)    # ---> (70000, 784) (70000,)\n",
    "print(type(X))\n",
    "\n",
    "X_train, X_test, y_train, y_test = X[:60000], X[60000:], y[:60000], y[60000:]\n",
    "\n",
    "print(\"\\nX_train shape: {}\".format(X_train.shape))\n",
    "print(\"y_train shape: {}\".format(y_train.shape))\n",
    "print(\"X_test shape: {}\".format(X_test.shape))\n",
    "print(\"y_test shape: {}\".format(y_test.shape))\n"
   ]
  },
  {
   "cell_type": "markdown",
   "id": "honey-above",
   "metadata": {},
   "source": [
    "### Visualize data"
   ]
  },
  {
   "cell_type": "markdown",
   "id": "czech-phone",
   "metadata": {},
   "source": [
    "The plot_digit () function to display an image"
   ]
  },
  {
   "cell_type": "code",
   "execution_count": 4,
   "id": "systematic-tolerance",
   "metadata": {},
   "outputs": [
    {
     "data": {
      "image/png": "[encoded data removed]",
      "text/plain": [
       "<Figure size 720x360 with 1 Axes>"
      ]
     },
     "metadata": {
      "needs_background": "light"
     },
     "output_type": "display_data"
    }
   ],
   "source": [
    "def plot_digit(data):\n",
    "    plt.figure(figsize=(10,5))\n",
    "    img = data.reshape(28, 28)\n",
    "    plt.imshow(img, cmap=\"gray\")   # greyscale, \"gray_r\" = inverse grayscale\n",
    "\n",
    "    \n",
    "plot_digit(X_train[10])\n"
   ]
  },
  {
   "cell_type": "markdown",
   "id": "experienced-thickness",
   "metadata": {},
   "source": [
    "The plot_more_digit () function to display n images"
   ]
  },
  {
   "cell_type": "code",
   "execution_count": 5,
   "id": "international-doctrine",
   "metadata": {},
   "outputs": [
    {
     "data": {
      "image/png": "[encoded data removed]",
      "text/plain": [
       "<Figure size 1440x720 with 15 Axes>"
      ]
     },
     "metadata": {
      "needs_background": "light"
     },
     "output_type": "display_data"
    }
   ],
   "source": [
    "def plot_more_digit(data, n):\n",
    "    plt.figure(figsize=(20,10))\n",
    "    for i in range(n):\n",
    "        plt.subplot(2, 10, i+1)    \n",
    "        img = data[i].reshape(28, 28)\n",
    "        plt.imshow(img, cmap=\"gray\")\n",
    "\n",
    "plot_more_digit(X_train, 15)\n",
    "\n"
   ]
  },
  {
   "cell_type": "code",
   "execution_count": 6,
   "id": "revolutionary-jacket",
   "metadata": {},
   "outputs": [
    {
     "data": {
      "text/plain": [
       "<AxesSubplot:xlabel='count'>"
      ]
     },
     "execution_count": 6,
     "metadata": {},
     "output_type": "execute_result"
    },
    {
     "data": {
      "image/png": "[encoded data removed]",
      "text/plain": [
       "<Figure size 432x288 with 1 Axes>"
      ]
     },
     "metadata": {
      "needs_background": "light"
     },
     "output_type": "display_data"
    }
   ],
   "source": [
    "sns.countplot(y=y_train)"
   ]
  },
  {
   "cell_type": "markdown",
   "id": "stuffed-sally",
   "metadata": {},
   "source": [
    "### Transform data"
   ]
  },
  {
   "cell_type": "markdown",
   "id": "efficient-sweet",
   "metadata": {},
   "source": [
    "Standard Scaler to transform data so that its distribution has a mean value of 0 and a standard deviation of 1"
   ]
  },
  {
   "cell_type": "code",
   "execution_count": 7,
   "id": "focused-money",
   "metadata": {},
   "outputs": [],
   "source": [
    "# transform data\n",
    "\n",
    "X_train = StandardScaler().fit_transform(X_train.astype(np.float64))\n"
   ]
  },
  {
   "cell_type": "markdown",
   "id": "thick-horizon",
   "metadata": {},
   "source": [
    "## Compare models:\n",
    "- Random Forest Classifier\n",
    "- KNeighborsClassifier\n",
    "- DecisionTreeClassifier\n",
    "- GaussianNB\n",
    "- SVC\n",
    "- SGDClassifier"
   ]
  },
  {
   "cell_type": "code",
   "execution_count": 8,
   "id": "governmental-barrel",
   "metadata": {},
   "outputs": [
    {
     "name": "stdout",
     "output_type": "stream",
     "text": [
      "RFC: 0.9671 (0.0041880783182743865)\n",
      "KNN: 0.944 (0.0057421443923174045)\n",
      "DT: 0.8707333333333332 (0.00716713176785372)\n",
      "NB: 0.5347999999999999 (0.008154003788187616)\n",
      "SVM: 0.9634833333333332 (0.003940142411413863)\n"
     ]
    },
    {
     "name": "stderr",
     "output_type": "stream",
     "text": [
      "/home/isabel/ML_book/ENV/lib/python3.7/site-packages/sklearn/linear_model/_stochastic_gradient.py:577: ConvergenceWarning: Maximum number of iteration reached before convergence. Consider increasing max_iter to improve the fit.\n",
      "  ConvergenceWarning)\n",
      "/home/isabel/ML_book/ENV/lib/python3.7/site-packages/sklearn/linear_model/_stochastic_gradient.py:577: ConvergenceWarning: Maximum number of iteration reached before convergence. Consider increasing max_iter to improve the fit.\n",
      "  ConvergenceWarning)\n"
     ]
    },
    {
     "name": "stdout",
     "output_type": "stream",
     "text": [
      "SGD: 0.898 (0.00953735346472549)\n"
     ]
    },
    {
     "data": {
      "image/png": "[encoded data removed]",
      "text/plain": [
       "<Figure size 432x288 with 1 Axes>"
      ]
     },
     "metadata": {
      "needs_background": "light"
     },
     "output_type": "display_data"
    }
   ],
   "source": [
    "def compare_models(models):\n",
    "    results = []\n",
    "    names = []\n",
    "\n",
    "    \n",
    "    for name, model in models:\n",
    "        kfold = KFold(n_splits=10)\n",
    "        cv_results = cross_val_score(model, X_train, y_train, cv=kfold, scoring=\"accuracy\")\n",
    "        \n",
    "        results.append(cv_results)\n",
    "        names.append(name)\n",
    "        msg = \"{}: {} ({})\".format(name, cv_results.mean(), cv_results.std())\n",
    "        print(msg)\n",
    "\n",
    "        \n",
    "        \n",
    "    # boxplot comparision\n",
    "    fig = plt.figure()\n",
    "    fig.suptitle('Algorithm Comparison')\n",
    "    ax = fig.add_subplot(111)\n",
    "    plt.boxplot(results)\n",
    "    ax.set_xticklabels(names)\n",
    "    plt.show()\n",
    "    \n",
    "    \n",
    "models = [(\"RFC\", RandomForestClassifier()),\n",
    "         (\"KNN\", KNeighborsClassifier()),\n",
    "         (\"DT\", DecisionTreeClassifier()),\n",
    "         (\"NB\", GaussianNB()),\n",
    "         (\"SVM\", SVC()),\n",
    "         (\"SGD\", SGDClassifier())]\n",
    "\n",
    "compare_models(models)"
   ]
  },
  {
   "cell_type": "code",
   "execution_count": null,
   "id": "democratic-martin",
   "metadata": {},
   "outputs": [],
   "source": []
  }
 ],
 "metadata": {
  "kernelspec": {
   "display_name": "Python 3",
   "language": "python",
   "name": "python3"
  },
  "language_info": {
   "codemirror_mode": {
    "name": "ipython",
    "version": 3
   },
   "file_extension": ".py",
   "mimetype": "text/x-python",
   "name": "python",
   "nbconvert_exporter": "python",
   "pygments_lexer": "ipython3",
   "version": "3.7.10"
  }
 },
 "nbformat": 4,
 "nbformat_minor": 5
}
